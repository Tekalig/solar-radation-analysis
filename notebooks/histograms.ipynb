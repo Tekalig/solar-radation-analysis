{
 "cells": [
  {
   "cell_type": "code",
   "execution_count": 1,
   "id": "9a3f31e24b57195a",
   "metadata": {
    "ExecuteTime": {
     "end_time": "2024-12-08T22:41:50.762647Z",
     "start_time": "2024-12-08T22:41:50.751640Z"
    }
   },
   "outputs": [],
   "source": [
    "import os\n",
    "import sys\n",
    "import matplotlib.pyplot as plt\n",
    "\n",
    "sys.path.append(os.path.abspath(os.path.join(os.getcwd(), \"../\")))\n",
    "# Import the histogram function\n",
    "from src.histograms import plot_histograms\n",
    "from src.data_processing import data_loader"
   ]
  },
  {
   "cell_type": "code",
   "execution_count": 2,
   "id": "15b409b502303501",
   "metadata": {
    "ExecuteTime": {
     "end_time": "2024-12-08T22:42:20.557277Z",
     "start_time": "2024-12-08T22:42:13.540494Z"
    }
   },
   "outputs": [],
   "source": [
    "# Load datasets\n",
    "togo_data = data_loader(\"../data/processed/cleaned_togo.csv\")\n",
    "sierraleone_data = data_loader(\"../data/processed/cleaned_sierraleone.csv\")\n",
    "benin_data = data_loader(\"../data/processed/cleaned_benin.csv\")"
   ]
  },
  {
   "cell_type": "code",
   "execution_count": 3,
   "id": "5c67a5b0f944e3dd",
   "metadata": {
    "ExecuteTime": {
     "end_time": "2024-12-08T22:42:27.337837Z",
     "start_time": "2024-12-08T22:42:24.290473Z"
    }
   },
   "outputs": [],
   "source": [
    "# Plot histograms for Togo dataset\n",
    "fig = plot_histograms(togo_data, \"Togo\")\n",
    "fig.savefig(\"../screenshots/togo_histogram.png\")\n",
    "plt.close(fig)"
   ]
  },
  {
   "cell_type": "code",
   "execution_count": 4,
   "id": "ffb2adce05e7f177",
   "metadata": {
    "ExecuteTime": {
     "end_time": "2024-12-08T22:42:46.345837Z",
     "start_time": "2024-12-08T22:42:43.536458Z"
    }
   },
   "outputs": [],
   "source": [
    "# Plot histograms for Sierra Leone dataset\n",
    "fig = plot_histograms(sierraleone_data, \"Sierra Leone\")\n",
    "fig.savefig(\"../screenshots/sierraleone_histogram.png\")\n",
    "plt.close(fig)"
   ]
  },
  {
   "cell_type": "code",
   "execution_count": 5,
   "id": "62b864efffd094e2",
   "metadata": {
    "ExecuteTime": {
     "end_time": "2024-12-08T22:42:54.338052Z",
     "start_time": "2024-12-08T22:42:50.932543Z"
    }
   },
   "outputs": [],
   "source": [
    "# Plot histograms for Benin dataset\n",
    "fig = plot_histograms(benin_data, \"Benin\")\n",
    "fig.savefig(\"../screenshots/benin_histogram.png\")\n",
    "plt.close(fig)\n"
   ]
  }
 ],
 "metadata": {
  "kernelspec": {
   "display_name": ".venv",
   "language": "python",
   "name": "python3"
  },
  "language_info": {
   "codemirror_mode": {
    "name": "ipython",
    "version": 3
   },
   "file_extension": ".py",
   "mimetype": "text/x-python",
   "name": "python",
   "nbconvert_exporter": "python",
   "pygments_lexer": "ipython3",
   "version": "3.12.3"
  }
 },
 "nbformat": 4,
 "nbformat_minor": 5
}
