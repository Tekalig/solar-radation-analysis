{
 "cells": [
  {
   "cell_type": "code",
   "execution_count": 3,
   "id": "185f6dede404a393",
   "metadata": {
    "ExecuteTime": {
     "end_time": "2024-12-08T22:46:06.090058Z",
     "start_time": "2024-12-08T22:46:06.058698Z"
    }
   },
   "outputs": [],
   "source": [
    "import os\n",
    "import sys\n",
    "import matplotlib.pyplot as plt\n",
    "sys.path.append(os.path.abspath(os.path.join(os.getcwd(), \"../\")))\n",
    "\n",
    "# Import the wind analysis function\n",
    "from src.wind_analysis import plot_wind_analysis\n",
    "from src.data_processing import data_loader"
   ]
  },
  {
   "cell_type": "code",
   "execution_count": 4,
   "id": "6f59b60d339d3f62",
   "metadata": {
    "ExecuteTime": {
     "end_time": "2024-12-08T22:46:15.398569Z",
     "start_time": "2024-12-08T22:46:08.320639Z"
    }
   },
   "outputs": [],
   "source": [
    "# Load datasets\n",
    "togo_data = data_loader(\"../data/processed/cleaned_togo.csv\")\n",
    "sierraleone_data = data_loader(\"../data/processed/cleaned_sierraleone.csv\")\n",
    "benin_data = data_loader(\"../data/processed/cleaned_benin.csv\")"
   ]
  },
  {
   "cell_type": "code",
   "execution_count": 5,
   "id": "7e81e36deb4c0411",
   "metadata": {
    "ExecuteTime": {
     "end_time": "2024-12-08T22:46:18.162626Z",
     "start_time": "2024-12-08T22:46:16.714007Z"
    }
   },
   "outputs": [
    {
     "name": "stderr",
     "output_type": "stream",
     "text": [
      "/home/besu/PycharmProjects/Ten Academy Project/solar-radation-analysis/src/wind_analysis.py:25: UserWarning: This figure includes Axes that are not compatible with tight_layout, so results might be incorrect.\n",
      "  plt.tight_layout()\n"
     ]
    }
   ],
   "source": [
    "# Generate Wind Rose for Togo\n",
    "fig = plot_wind_analysis(togo_data, \"Togo\")\n",
    "fig.savefig(\"../screenshots/togo_wind_analysis.png\")\n",
    "plt.close(fig)"
   ]
  },
  {
   "cell_type": "code",
   "execution_count": 6,
   "id": "dffaed1f231089bb",
   "metadata": {
    "ExecuteTime": {
     "end_time": "2024-12-08T22:46:23.445323Z",
     "start_time": "2024-12-08T22:46:22.085430Z"
    }
   },
   "outputs": [
    {
     "name": "stderr",
     "output_type": "stream",
     "text": [
      "/home/besu/PycharmProjects/Ten Academy Project/solar-radation-analysis/src/wind_analysis.py:25: UserWarning: This figure includes Axes that are not compatible with tight_layout, so results might be incorrect.\n",
      "  plt.tight_layout()\n"
     ]
    }
   ],
   "source": [
    "# Generate Wind Rose for Sierra Leone\n",
    "fig = plot_wind_analysis(sierraleone_data, \"Sierra Leone\")\n",
    "fig.savefig(\"../screenshots/sierraleone_wind_analysis.png\")\n",
    "plt.close(fig)"
   ]
  },
  {
   "cell_type": "code",
   "execution_count": 7,
   "id": "921368cbc839bba7",
   "metadata": {
    "ExecuteTime": {
     "end_time": "2024-12-08T22:46:31.052152Z",
     "start_time": "2024-12-08T22:46:29.557045Z"
    }
   },
   "outputs": [
    {
     "name": "stderr",
     "output_type": "stream",
     "text": [
      "/home/besu/PycharmProjects/Ten Academy Project/solar-radation-analysis/src/wind_analysis.py:25: UserWarning: This figure includes Axes that are not compatible with tight_layout, so results might be incorrect.\n",
      "  plt.tight_layout()\n"
     ]
    }
   ],
   "source": [
    "# Generate Wind Rose for Benin\n",
    "fig = plot_wind_analysis(benin_data, \"Benin\")\n",
    "fig.savefig(\"../screenshots/benin_wind_analysis.png\")\n",
    "plt.close(fig)\n"
   ]
  }
 ],
 "metadata": {
  "kernelspec": {
   "display_name": ".venv",
   "language": "python",
   "name": "python3"
  },
  "language_info": {
   "codemirror_mode": {
    "name": "ipython",
    "version": 3
   },
   "file_extension": ".py",
   "mimetype": "text/x-python",
   "name": "python",
   "nbconvert_exporter": "python",
   "pygments_lexer": "ipython3",
   "version": "3.12.3"
  }
 },
 "nbformat": 4,
 "nbformat_minor": 5
}
