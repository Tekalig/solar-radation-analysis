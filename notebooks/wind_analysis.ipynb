{
 "cells": [
  {
   "metadata": {},
   "cell_type": "code",
   "outputs": [],
   "execution_count": null,
   "source": [
    "import pandas as pd\n",
    "# Import the wind analysis function\n",
    "from scripts.wind_analysis import plot_wind_analysis"
   ],
   "id": "185f6dede404a393"
  },
  {
   "metadata": {},
   "cell_type": "code",
   "outputs": [],
   "execution_count": null,
   "source": [
    "# Load datasets\n",
    "togo_data = pd.read_csv(\"../src/data/togo-dapaong_qc.csv\")\n",
    "sierraleone_data = pd.read_csv(\"../src/data/sierraleone-bumbuna.csv\")\n",
    "benin_data = pd.read_csv(\"../src/data/benin-malanville.csv\")"
   ],
   "id": "6f59b60d339d3f62"
  },
  {
   "metadata": {},
   "cell_type": "code",
   "outputs": [],
   "execution_count": null,
   "source": [
    "# Generate Wind Rose for Togo\n",
    "plot_wind_analysis(togo_data, \"Togo\")"
   ],
   "id": "7e81e36deb4c0411"
  },
  {
   "metadata": {},
   "cell_type": "code",
   "outputs": [],
   "execution_count": null,
   "source": [
    "# Generate Wind Rose for Sierra Leone\n",
    "plot_wind_analysis(sierraleone_data, \"Sierra Leone\")"
   ],
   "id": "dffaed1f231089bb"
  },
  {
   "metadata": {},
   "cell_type": "code",
   "outputs": [],
   "execution_count": null,
   "source": [
    "# Generate Wind Rose for Benin\n",
    "plot_wind_analysis(benin_data, \"Benin\")\n"
   ],
   "id": "921368cbc839bba7"
  }
 ],
 "metadata": {
  "kernelspec": {
   "display_name": "Python 3",
   "language": "python",
   "name": "python3"
  },
  "language_info": {
   "codemirror_mode": {
    "name": "ipython",
    "version": 2
   },
   "file_extension": ".py",
   "mimetype": "text/x-python",
   "name": "python",
   "nbconvert_exporter": "python",
   "pygments_lexer": "ipython2",
   "version": "2.7.6"
  }
 },
 "nbformat": 4,
 "nbformat_minor": 5
}
