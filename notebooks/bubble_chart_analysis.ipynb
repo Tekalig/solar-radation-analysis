{
 "cells": [
  {
   "metadata": {},
   "cell_type": "code",
   "outputs": [],
   "execution_count": null,
   "source": [
    "import pandas as pd\n",
    "# Import the bubble chart function\n",
    "from scripts.bubble_chart import create_bubble_chart"
   ],
   "id": "5eabc0ff0e08a48f"
  },
  {
   "metadata": {},
   "cell_type": "code",
   "outputs": [],
   "execution_count": null,
   "source": [
    "# Load datasets\n",
    "togo_data = pd.read_csv(\"../src/data/togo-dapaong_qc.csv\")\n",
    "sierraleone_data = pd.read_csv(\"../src/data/sierraleone-bumbuna.csv\")\n",
    "benin_data = pd.read_csv(\"../src/data/benin-malanville.csv\")"
   ],
   "id": "7aa2d8b2ffe88128"
  },
  {
   "metadata": {},
   "cell_type": "code",
   "outputs": [],
   "execution_count": null,
   "source": [
    "# Define variables for the bubble chart\n",
    "x_column = 'GHI'\n",
    "y_column = 'Tamb'\n",
    "bubble_size_column = 'RH'  # Relative Humidity\n",
    "bubble_color_column = 'BP'  # Barometric Pressure"
   ],
   "id": "889bd3771e87c858"
  },
  {
   "metadata": {},
   "cell_type": "code",
   "outputs": [],
   "execution_count": null,
   "source": [
    "# Create bubble charts for each dataset\n",
    "print(\"Bubble Chart for Togo Dataset\")\n",
    "create_bubble_chart(togo_data, x_column, y_column, bubble_size_column, bubble_color_column, \"Togo: GHI vs. Tamb vs. RH (size) & BP (color)\")"
   ],
   "id": "510d15c6bf66026c"
  },
  {
   "metadata": {},
   "cell_type": "code",
   "outputs": [],
   "execution_count": null,
   "source": [
    "print(\"Bubble Chart for Sierra Leone Dataset\")\n",
    "create_bubble_chart(sierraleone_data, x_column, y_column, bubble_size_column, bubble_color_column, \"Sierra Leone: GHI vs. Tamb vs. RH (size) & BP (color)\")"
   ],
   "id": "270dd718880afb88"
  },
  {
   "metadata": {},
   "cell_type": "code",
   "outputs": [],
   "execution_count": null,
   "source": [
    "print(\"Bubble Chart for Benin Dataset\")\n",
    "create_bubble_chart(benin_data, x_column, y_column, bubble_size_column, bubble_color_column, \"Benin: GHI vs. Tamb vs. RH (size) & BP (color)\")\n"
   ],
   "id": "439eb83c4e1ad041"
  }
 ],
 "metadata": {
  "kernelspec": {
   "display_name": "Python 3",
   "language": "python",
   "name": "python3"
  },
  "language_info": {
   "codemirror_mode": {
    "name": "ipython",
    "version": 2
   },
   "file_extension": ".py",
   "mimetype": "text/x-python",
   "name": "python",
   "nbconvert_exporter": "python",
   "pygments_lexer": "ipython2",
   "version": "2.7.6"
  }
 },
 "nbformat": 4,
 "nbformat_minor": 5
}
