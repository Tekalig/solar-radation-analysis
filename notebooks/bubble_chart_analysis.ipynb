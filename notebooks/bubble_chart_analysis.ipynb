{
 "cells": [
  {
   "cell_type": "code",
   "execution_count": null,
   "id": "5eabc0ff0e08a48f",
   "metadata": {
    "ExecuteTime": {
     "end_time": "2024-12-08T22:03:12.451137Z",
     "start_time": "2024-12-08T22:03:03.444072Z"
    }
   },
   "outputs": [],
   "source": [
    "import sys\n",
    "import os\n",
    "import pandas as pd\n",
    "import matplotlib.pyplot as plt\n",
    "\n",
    "# Add the src directory to the Python path\n",
    "sys.path.append(os.path.abspath(os.path.join(os.getcwd(), \"../\")))\n",
    "\n",
    "# Import the bubble chart function\n",
    "from src.bubble_chart import create_bubble_chart"
   ]
  },
  {
   "cell_type": "code",
   "execution_count": 2,
   "id": "7aa2d8b2ffe88128",
   "metadata": {
    "ExecuteTime": {
     "end_time": "2024-12-08T22:03:39.821177Z",
     "start_time": "2024-12-08T22:03:15.327919Z"
    }
   },
   "outputs": [],
   "source": [
    "# Load datasets\n",
    "togo_data = pd.read_csv(\"../data/processed/cleaned_togo.csv\")\n",
    "sierraleone_data = pd.read_csv(\"../data/processed/cleaned_sierraleone.csv\")\n",
    "benin_data = pd.read_csv(\"../data/processed/cleaned_benin.csv\")"
   ]
  },
  {
   "cell_type": "code",
   "execution_count": 3,
   "id": "889bd3771e87c858",
   "metadata": {
    "ExecuteTime": {
     "end_time": "2024-12-08T22:03:41.861337Z",
     "start_time": "2024-12-08T22:03:41.838352Z"
    }
   },
   "outputs": [],
   "source": [
    "# Define variables for the bubble chart\n",
    "x_column = 'GHI'\n",
    "y_column = 'Tamb'\n",
    "bubble_size_column = 'RH'  # Relative Humidity\n",
    "bubble_color_column = 'BP'  # Barometric Pressure"
   ]
  },
  {
   "cell_type": "code",
   "execution_count": 4,
   "id": "510d15c6bf66026c",
   "metadata": {
    "ExecuteTime": {
     "end_time": "2024-12-08T22:04:18.850527Z",
     "start_time": "2024-12-08T22:03:44.335219Z"
    }
   },
   "outputs": [
    {
     "data": {
      "text/plain": [
       "<Figure size 1200x800 with 0 Axes>"
      ]
     },
     "metadata": {},
     "output_type": "display_data"
    }
   ],
   "source": [
    "# Create bubble charts for each dataset\n",
    "result = create_bubble_chart(togo_data, x_column, y_column, bubble_size_column, bubble_color_column, \"Togo: GHI vs. Tamb vs. RH (size) & BP (color)\")\n",
    "result.savefig(\"../screenshots/togo_bubble_chart.png\")\n",
    "plt.close(result)"
   ]
  },
  {
   "cell_type": "code",
   "execution_count": 5,
   "id": "270dd718880afb88",
   "metadata": {
    "ExecuteTime": {
     "end_time": "2024-12-08T22:05:07.298975Z",
     "start_time": "2024-12-08T22:04:25.418880Z"
    }
   },
   "outputs": [
    {
     "data": {
      "text/plain": [
       "<Figure size 1200x800 with 0 Axes>"
      ]
     },
     "metadata": {},
     "output_type": "display_data"
    }
   ],
   "source": [
    "result = create_bubble_chart(sierraleone_data, x_column, y_column, bubble_size_column, bubble_color_column, \"Sierra Leone: GHI vs. Tamb vs. RH (size) & BP (color)\")\n",
    "result.savefig(\"../screenshots/sierraleone_bubble_chart.png\")\n",
    "plt.close(result)"
   ]
  },
  {
   "cell_type": "code",
   "execution_count": 6,
   "id": "439eb83c4e1ad041",
   "metadata": {
    "ExecuteTime": {
     "end_time": "2024-12-08T22:05:53.275798Z",
     "start_time": "2024-12-08T22:05:13.480437Z"
    }
   },
   "outputs": [
    {
     "data": {
      "text/plain": [
       "<Figure size 1200x800 with 0 Axes>"
      ]
     },
     "metadata": {},
     "output_type": "display_data"
    }
   ],
   "source": [
    "result = create_bubble_chart(benin_data, x_column, y_column, bubble_size_column, bubble_color_column, \"Benin: GHI vs. Tamb vs. RH (size) & BP (color)\")\n",
    "result.savefig(\"../screenshots/benin_bubble_chart.png\")\n",
    "plt.close(result)"
   ]
  }
 ],
 "metadata": {
  "kernelspec": {
   "display_name": ".venv",
   "language": "python",
   "name": "python3"
  },
  "language_info": {
   "codemirror_mode": {
    "name": "ipython",
    "version": 3
   },
   "file_extension": ".py",
   "mimetype": "text/x-python",
   "name": "python",
   "nbconvert_exporter": "python",
   "pygments_lexer": "ipython3",
   "version": "3.12.3"
  }
 },
 "nbformat": 4,
 "nbformat_minor": 5
}
