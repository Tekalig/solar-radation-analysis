{
 "cells": [
  {
   "metadata": {},
   "cell_type": "code",
   "outputs": [],
   "execution_count": null,
   "source": [
    "import pandas as pd\n",
    "# Import the temperature analysis function\n",
    "from scripts.temperature_analysis import analyze_temperature_humidity"
   ],
   "id": "5b5881bb4101cd02"
  },
  {
   "metadata": {},
   "cell_type": "code",
   "outputs": [],
   "execution_count": null,
   "source": [
    "# Load datasets\n",
    "togo_data = pd.read_csv(\"../src/data/togo-dapaong_qc.csv\")\n",
    "sierraleone_data = pd.read_csv(\"../src/data/sierraleone-bumbuna.csv\")\n",
    "benin_data = pd.read_csv(\"../src/data/benin-malanville.csv\")"
   ],
   "id": "8b3863103c982452"
  },
  {
   "metadata": {},
   "cell_type": "code",
   "outputs": [],
   "execution_count": null,
   "source": [
    "# Analyze Togo Dataset\n",
    "analyze_temperature_humidity(togo_data, \"Togo\")"
   ],
   "id": "269cb78447edccda"
  },
  {
   "metadata": {},
   "cell_type": "code",
   "outputs": [],
   "execution_count": null,
   "source": [
    "# Analyze Sierra Leone Dataset\n",
    "analyze_temperature_humidity(sierraleone_data, \"Sierra Leone\")"
   ],
   "id": "a98af2b780d9b505"
  },
  {
   "metadata": {},
   "cell_type": "code",
   "outputs": [],
   "execution_count": null,
   "source": [
    "# Analyze Benin Dataset\n",
    "analyze_temperature_humidity(benin_data, \"Benin\")\n"
   ],
   "id": "871e556defd6ed2e"
  }
 ],
 "metadata": {
  "kernelspec": {
   "display_name": "Python 3",
   "language": "python",
   "name": "python3"
  },
  "language_info": {
   "codemirror_mode": {
    "name": "ipython",
    "version": 2
   },
   "file_extension": ".py",
   "mimetype": "text/x-python",
   "name": "python",
   "nbconvert_exporter": "python",
   "pygments_lexer": "ipython2",
   "version": "2.7.6"
  }
 },
 "nbformat": 4,
 "nbformat_minor": 5
}
