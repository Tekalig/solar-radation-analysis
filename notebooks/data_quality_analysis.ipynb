{
 "cells": [
  {
   "cell_type": "code",
   "execution_count": null,
   "id": "initial_id",
   "metadata": {
    "ExecuteTime": {
     "end_time": "2024-12-08T14:46:14.077872Z",
     "start_time": "2024-12-08T14:46:14.058688Z"
    },
    "collapsed": true
   },
   "outputs": [],
   "source": [
    "# Import necessary libraries\n",
    "import os\n",
    "import sys\n",
    "\n",
    "# Add the src directory to the path\n",
    "sys.path.append(os.path.abspath(os.path.join(os.getcwd(), '../')))\n",
    "# Import custom functions\n",
    "from src.data_quality_check import data_quality_check, summarize_quality_issues\n",
    "from src.data_processing import clean_data, data_loader"
   ]
  },
  {
   "cell_type": "code",
   "execution_count": 6,
   "id": "d17152ee1601c3c9",
   "metadata": {
    "ExecuteTime": {
     "end_time": "2024-12-08T14:46:32.450284Z",
     "start_time": "2024-12-08T14:46:18.433795Z"
    }
   },
   "outputs": [],
   "source": [
    "# Load datasets\n",
    "togo_df = data_loader('../data/raw/togo-dapaong_qc.csv')\n",
    "sierraleone_df = data_loader('../data/raw/sierraleone-bumbuna.csv')\n",
    "benin_df = data_loader('../data/raw/benin-malanville.csv')"
   ]
  },
  {
   "cell_type": "code",
   "execution_count": 7,
   "id": "a6f74092a6acdb33",
   "metadata": {
    "ExecuteTime": {
     "end_time": "2024-12-08T14:46:45.289840Z",
     "start_time": "2024-12-08T14:46:45.284142Z"
    }
   },
   "outputs": [],
   "source": [
    "# Define columns for quality check\n",
    "columns_to_check = ['GHI', 'DNI', 'DHI', 'ModA', 'ModB', 'WS', 'WSgust']"
   ]
  },
  {
   "cell_type": "code",
   "execution_count": 8,
   "id": "b8ab534ad88b7e69",
   "metadata": {
    "ExecuteTime": {
     "end_time": "2024-12-08T14:46:48.268667Z",
     "start_time": "2024-12-08T14:46:47.428582Z"
    }
   },
   "outputs": [],
   "source": [
    "# Perform quality checks on each dataset\n",
    "togo_issues = data_quality_check(togo_df, columns_to_check)\n",
    "sierraleone_issues = data_quality_check(sierraleone_df, columns_to_check)\n",
    "benin_issues = data_quality_check(benin_df, columns_to_check)"
   ]
  },
  {
   "cell_type": "code",
   "execution_count": 9,
   "id": "518a656d8335613",
   "metadata": {
    "ExecuteTime": {
     "end_time": "2024-12-08T14:46:50.044047Z",
     "start_time": "2024-12-08T14:46:50.022253Z"
    }
   },
   "outputs": [
    {
     "name": "stdout",
     "output_type": "stream",
     "text": [
      "TOGO Dataset:\n",
      "Data Quality Check Summary:\n",
      "Column: GHI\n",
      "  Missing Values: 0\n",
      "  Negative Values: 257385\n",
      "  Outliers: 1303\n",
      "----------------------------------------\n",
      "Column: DNI\n",
      "  Missing Values: 0\n",
      "  Negative Values: 0\n",
      "  Outliers: 50586\n",
      "----------------------------------------\n",
      "Column: DHI\n",
      "  Missing Values: 0\n",
      "  Negative Values: 0\n",
      "  Outliers: 7905\n",
      "----------------------------------------\n",
      "Column: ModA\n",
      "  Missing Values: 0\n",
      "  Negative Values: 0\n",
      "  Outliers: 1237\n",
      "----------------------------------------\n",
      "Column: ModB\n",
      "  Missing Values: 0\n",
      "  Negative Values: 0\n",
      "  Outliers: 1537\n",
      "----------------------------------------\n",
      "Column: WS\n",
      "  Missing Values: 0\n",
      "  Negative Values: 0\n",
      "  Outliers: 8708\n",
      "----------------------------------------\n",
      "Column: WSgust\n",
      "  Missing Values: 0\n",
      "  Negative Values: 0\n",
      "  Outliers: 7377\n",
      "----------------------------------------\n"
     ]
    }
   ],
   "source": [
    "# Print the results\n",
    "print(\"TOGO Dataset:\")\n",
    "summarize_quality_issues(togo_issues)"
   ]
  },
  {
   "cell_type": "code",
   "execution_count": 10,
   "id": "b4f90b86e71166e1",
   "metadata": {
    "ExecuteTime": {
     "end_time": "2024-12-08T14:46:52.583760Z",
     "start_time": "2024-12-08T14:46:52.568403Z"
    }
   },
   "outputs": [
    {
     "name": "stdout",
     "output_type": "stream",
     "text": [
      "\n",
      "SIERRA LEONE Dataset:\n",
      "Data Quality Check Summary:\n",
      "Column: GHI\n",
      "  Missing Values: 0\n",
      "  Negative Values: 261135\n",
      "  Outliers: 15853\n",
      "----------------------------------------\n",
      "Column: DNI\n",
      "  Missing Values: 0\n",
      "  Negative Values: 266352\n",
      "  Outliers: 101688\n",
      "----------------------------------------\n",
      "Column: DHI\n",
      "  Missing Values: 0\n",
      "  Negative Values: 263128\n",
      "  Outliers: 4407\n",
      "----------------------------------------\n",
      "Column: ModA\n",
      "  Missing Values: 0\n",
      "  Negative Values: 0\n",
      "  Outliers: 21017\n",
      "----------------------------------------\n",
      "Column: ModB\n",
      "  Missing Values: 0\n",
      "  Negative Values: 0\n",
      "  Outliers: 20613\n",
      "----------------------------------------\n",
      "Column: WS\n",
      "  Missing Values: 0\n",
      "  Negative Values: 0\n",
      "  Outliers: 3169\n",
      "----------------------------------------\n",
      "Column: WSgust\n",
      "  Missing Values: 0\n",
      "  Negative Values: 0\n",
      "  Outliers: 3665\n",
      "----------------------------------------\n"
     ]
    }
   ],
   "source": [
    "print(\"\\nSIERRA LEONE Dataset:\")\n",
    "summarize_quality_issues(sierraleone_issues)"
   ]
  },
  {
   "cell_type": "code",
   "execution_count": 11,
   "id": "ac0b7a9cb6b88820",
   "metadata": {
    "ExecuteTime": {
     "end_time": "2024-12-08T14:46:55.033535Z",
     "start_time": "2024-12-08T14:46:55.018740Z"
    }
   },
   "outputs": [
    {
     "name": "stdout",
     "output_type": "stream",
     "text": [
      "\n",
      "BENIN Dataset:\n",
      "Data Quality Check Summary:\n",
      "Column: GHI\n",
      "  Missing Values: 0\n",
      "  Negative Values: 258847\n",
      "  Outliers: 145\n",
      "----------------------------------------\n",
      "Column: DNI\n",
      "  Missing Values: 0\n",
      "  Negative Values: 275987\n",
      "  Outliers: 15196\n",
      "----------------------------------------\n",
      "Column: DHI\n",
      "  Missing Values: 0\n",
      "  Negative Values: 259182\n",
      "  Outliers: 8733\n",
      "----------------------------------------\n",
      "Column: ModA\n",
      "  Missing Values: 0\n",
      "  Negative Values: 0\n",
      "  Outliers: 98\n",
      "----------------------------------------\n",
      "Column: ModB\n",
      "  Missing Values: 0\n",
      "  Negative Values: 0\n",
      "  Outliers: 240\n",
      "----------------------------------------\n",
      "Column: WS\n",
      "  Missing Values: 0\n",
      "  Negative Values: 0\n",
      "  Outliers: 6717\n",
      "----------------------------------------\n",
      "Column: WSgust\n",
      "  Missing Values: 0\n",
      "  Negative Values: 0\n",
      "  Outliers: 5368\n",
      "----------------------------------------\n"
     ]
    }
   ],
   "source": [
    "print(\"\\nBENIN Dataset:\")\n",
    "summarize_quality_issues(benin_issues)\n"
   ]
  },
  {
   "cell_type": "code",
   "execution_count": 17,
   "id": "c14bca5d3165068e",
   "metadata": {
    "ExecuteTime": {
     "end_time": "2024-12-08T14:47:03.772697Z",
     "start_time": "2024-12-08T14:46:57.738744Z"
    }
   },
   "outputs": [],
   "source": [
    "# Clean the datasets\n",
    "togo_df = clean_data(togo_df)\n",
    "sierraleone_df = clean_data(sierraleone_df)\n",
    "benin_df = clean_data(benin_df)"
   ]
  },
  {
   "cell_type": "code",
   "execution_count": null,
   "id": "194e02d20df6d0a2",
   "metadata": {
    "ExecuteTime": {
     "end_time": "2024-12-08T14:47:48.370765Z",
     "start_time": "2024-12-08T14:47:38.524443Z"
    }
   },
   "outputs": [],
   "source": [
    "# Save cleaned data\n",
    "togo_df.to_csv('../data/processed/cleaned_togo.csv', index=False)"
   ]
  },
  {
   "cell_type": "code",
   "execution_count": null,
   "id": "20e0ea86ce40b764",
   "metadata": {
    "ExecuteTime": {
     "end_time": "2024-12-08T14:47:59.891432Z",
     "start_time": "2024-12-08T14:47:49.804139Z"
    }
   },
   "outputs": [],
   "source": [
    "# Save cleaned data\n",
    "sierraleone_df.to_csv(\"../data/processed/cleaned_sierraleone.csv\", index=False)"
   ]
  },
  {
   "cell_type": "code",
   "execution_count": null,
   "id": "e7a8b13ce8d5cf69",
   "metadata": {
    "ExecuteTime": {
     "end_time": "2024-12-08T14:48:11.067469Z",
     "start_time": "2024-12-08T14:48:01.302772Z"
    }
   },
   "outputs": [],
   "source": [
    "# Save cleaned data\n",
    "benin_df.to_csv(\"../data/processed/cleaned_benin.csv\", index=False)"
   ]
  }
 ],
 "metadata": {
  "kernelspec": {
   "display_name": ".venv",
   "language": "python",
   "name": "python3"
  },
  "language_info": {
   "codemirror_mode": {
    "name": "ipython",
    "version": 3
   },
   "file_extension": ".py",
   "mimetype": "text/x-python",
   "name": "python",
   "nbconvert_exporter": "python",
   "pygments_lexer": "ipython3",
   "version": "3.12.3"
  }
 },
 "nbformat": 4,
 "nbformat_minor": 5
}
