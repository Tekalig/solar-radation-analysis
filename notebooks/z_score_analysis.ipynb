{
 "cells": [
  {
   "metadata": {},
   "cell_type": "code",
   "outputs": [],
   "execution_count": null,
   "source": [
    "import pandas as pd\n",
    "# Import the Z-score analysis functions\n",
    "from scripts.z_score_analysis import calculate_z_scores, flag_outliers"
   ],
   "id": "4c8721bf5bfc77a2"
  },
  {
   "metadata": {},
   "cell_type": "code",
   "outputs": [],
   "execution_count": null,
   "source": [
    "# Load datasets\n",
    "togo_data = pd.read_csv(\"../src/data/togo-dapaong_qc.csv\")\n",
    "sierraleone_data = pd.read_csv(\"../src/data/sierraleone-bumbuna.csv\")\n",
    "benin_data = pd.read_csv(\"../src/data/benin-malanville.csv\")"
   ],
   "id": "7f50aa980a0475b"
  },
  {
   "metadata": {},
   "cell_type": "code",
   "outputs": [],
   "execution_count": null,
   "source": [
    "# Specify columns for Z-score calculation\n",
    "columns_to_check = ['GHI', 'DNI', 'DHI', 'ModA', 'ModB', 'WS', 'WSgust']"
   ],
   "id": "e1d028406a4158aa"
  },
  {
   "metadata": {},
   "cell_type": "code",
   "outputs": [],
   "execution_count": null,
   "source": [
    "# Perform Z-score analysis for Togo dataset\n",
    "togo_z_scores, togo_outliers = calculate_z_scores(togo_data, columns_to_check)\n",
    "togo_data = flag_outliers(togo_data, togo_z_scores, columns_to_check)"
   ],
   "id": "bcf8cdefe86a344b"
  },
  {
   "metadata": {},
   "cell_type": "code",
   "outputs": [],
   "execution_count": null,
   "source": [
    "# Perform Z-score analysis for Sierra Leone dataset\n",
    "sierraleone_z_scores, sierraleone_outliers = calculate_z_scores(sierraleone_data, columns_to_check)\n",
    "sierraleone_data = flag_outliers(sierraleone_data, sierraleone_z_scores, columns_to_check)"
   ],
   "id": "6e5aea1aec2d9475"
  },
  {
   "metadata": {},
   "cell_type": "code",
   "outputs": [],
   "execution_count": null,
   "source": [
    "# Perform Z-score analysis for Benin dataset\n",
    "benin_z_scores, benin_outliers = calculate_z_scores(benin_data, columns_to_check)\n",
    "benin_data = flag_outliers(benin_data, benin_z_scores, columns_to_check)"
   ],
   "id": "52b16a62e346cedd"
  },
  {
   "metadata": {},
   "cell_type": "code",
   "outputs": [],
   "execution_count": null,
   "source": [
    "# Display results\n",
    "print(\"Togo dataset outliers flagged:\\n\", togo_data['Outlier_Flag'].value_counts())"
   ],
   "id": "1bc6712ab5fa6d0e"
  },
  {
   "metadata": {},
   "cell_type": "code",
   "outputs": [],
   "execution_count": null,
   "source": [
    "# Display results\n",
    "print(\"Sierra Leone dataset outliers flagged:\\n\", sierraleone_data['Outlier_Flag'].value_counts())"
   ],
   "id": "c8b04d414d3efc31"
  },
  {
   "metadata": {},
   "cell_type": "code",
   "outputs": [],
   "execution_count": null,
   "source": [
    "# Display results\n",
    "print(\"Benin dataset outliers flagged:\\n\", benin_data['Outlier_Flag'].value_counts())\n"
   ],
   "id": "96a46374cea01fc0"
  }
 ],
 "metadata": {
  "kernelspec": {
   "display_name": "Python 3",
   "language": "python",
   "name": "python3"
  },
  "language_info": {
   "codemirror_mode": {
    "name": "ipython",
    "version": 2
   },
   "file_extension": ".py",
   "mimetype": "text/x-python",
   "name": "python",
   "nbconvert_exporter": "python",
   "pygments_lexer": "ipython2",
   "version": "2.7.6"
  }
 },
 "nbformat": 4,
 "nbformat_minor": 5
}
