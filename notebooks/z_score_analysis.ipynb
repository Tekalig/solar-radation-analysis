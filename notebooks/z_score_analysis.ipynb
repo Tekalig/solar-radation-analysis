{
 "cells": [
  {
   "cell_type": "code",
   "execution_count": 2,
   "id": "4c8721bf5bfc77a2",
   "metadata": {
    "ExecuteTime": {
     "end_time": "2024-12-08T22:43:01.733242Z",
     "start_time": "2024-12-08T22:43:01.016879Z"
    }
   },
   "outputs": [],
   "source": [
    "import os\n",
    "import sys\n",
    "\n",
    "sys.path.append(os.path.abspath(os.path.join(os.getcwd(), \"../\")))\n",
    "# Import the Z-score analysis functions\n",
    "from src.z_score_analysis import calculate_z_scores, flag_outliers\n",
    "from src.data_processing import data_loader"
   ]
  },
  {
   "cell_type": "code",
   "execution_count": 3,
   "id": "7f50aa980a0475b",
   "metadata": {
    "ExecuteTime": {
     "end_time": "2024-12-08T22:43:10.030048Z",
     "start_time": "2024-12-08T22:43:04.819292Z"
    }
   },
   "outputs": [],
   "source": [
    "# Load datasets\n",
    "togo_data = data_loader(\"../data/processed/cleaned_togo.csv\")\n",
    "sierraleone_data = data_loader(\"../data/processed/cleaned_sierraleone.csv\")\n",
    "benin_data = data_loader(\"../data/processed/cleaned_benin.csv\")"
   ]
  },
  {
   "cell_type": "code",
   "execution_count": 4,
   "id": "e1d028406a4158aa",
   "metadata": {
    "ExecuteTime": {
     "end_time": "2024-12-08T22:43:11.397962Z",
     "start_time": "2024-12-08T22:43:11.389016Z"
    }
   },
   "outputs": [],
   "source": [
    "# Specify columns for Z-score calculation\n",
    "columns_to_check = ['GHI', 'DNI', 'DHI', 'ModA', 'ModB', 'WS', 'WSgust']"
   ]
  },
  {
   "cell_type": "code",
   "execution_count": 5,
   "id": "bcf8cdefe86a344b",
   "metadata": {
    "ExecuteTime": {
     "end_time": "2024-12-08T22:43:14.636968Z",
     "start_time": "2024-12-08T22:43:14.079909Z"
    }
   },
   "outputs": [],
   "source": [
    "# Perform Z-score analysis for Togo dataset\n",
    "togo_z_scores, togo_outliers = calculate_z_scores(togo_data, columns_to_check)\n",
    "togo_data = flag_outliers(togo_data, togo_z_scores, columns_to_check)"
   ]
  },
  {
   "cell_type": "code",
   "execution_count": 6,
   "id": "6e5aea1aec2d9475",
   "metadata": {
    "ExecuteTime": {
     "end_time": "2024-12-08T22:44:01.044868Z",
     "start_time": "2024-12-08T22:44:00.612001Z"
    }
   },
   "outputs": [],
   "source": [
    "# Perform Z-score analysis for Sierra Leone dataset\n",
    "sierraleone_z_scores, sierraleone_outliers = calculate_z_scores(sierraleone_data, columns_to_check)\n",
    "sierraleone_data = flag_outliers(sierraleone_data, sierraleone_z_scores, columns_to_check)"
   ]
  },
  {
   "cell_type": "code",
   "execution_count": 7,
   "id": "52b16a62e346cedd",
   "metadata": {
    "ExecuteTime": {
     "end_time": "2024-12-08T22:44:02.609986Z",
     "start_time": "2024-12-08T22:44:02.188716Z"
    }
   },
   "outputs": [],
   "source": [
    "# Perform Z-score analysis for Benin dataset\n",
    "benin_z_scores, benin_outliers = calculate_z_scores(benin_data, columns_to_check)\n",
    "benin_data = flag_outliers(benin_data, benin_z_scores, columns_to_check)"
   ]
  },
  {
   "cell_type": "code",
   "execution_count": 8,
   "id": "1bc6712ab5fa6d0e",
   "metadata": {
    "ExecuteTime": {
     "end_time": "2024-12-08T22:44:02.957091Z",
     "start_time": "2024-12-08T22:44:02.886433Z"
    }
   },
   "outputs": [
    {
     "name": "stdout",
     "output_type": "stream",
     "text": [
      "Togo dataset outliers flagged:\n",
      " Outlier_Flag\n",
      "False    521456\n",
      "True       4144\n",
      "Name: count, dtype: int64\n"
     ]
    }
   ],
   "source": [
    "# Display results\n",
    "print(\"Togo dataset outliers flagged:\\n\", togo_data['Outlier_Flag'].value_counts())"
   ]
  },
  {
   "cell_type": "code",
   "execution_count": 9,
   "id": "c8b04d414d3efc31",
   "metadata": {
    "ExecuteTime": {
     "end_time": "2024-12-08T22:44:05.849937Z",
     "start_time": "2024-12-08T22:44:05.827448Z"
    }
   },
   "outputs": [
    {
     "name": "stdout",
     "output_type": "stream",
     "text": [
      "Sierra Leone dataset outliers flagged:\n",
      " Outlier_Flag\n",
      "False    507461\n",
      "True      18139\n",
      "Name: count, dtype: int64\n"
     ]
    }
   ],
   "source": [
    "# Display results\n",
    "print(\"Sierra Leone dataset outliers flagged:\\n\", sierraleone_data['Outlier_Flag'].value_counts())"
   ]
  },
  {
   "cell_type": "code",
   "execution_count": 10,
   "id": "96a46374cea01fc0",
   "metadata": {
    "ExecuteTime": {
     "end_time": "2024-12-08T22:44:08.351242Z",
     "start_time": "2024-12-08T22:44:08.313128Z"
    }
   },
   "outputs": [
    {
     "name": "stdout",
     "output_type": "stream",
     "text": [
      "Benin dataset outliers flagged:\n",
      " Outlier_Flag\n",
      "False    517230\n",
      "True       8370\n",
      "Name: count, dtype: int64\n"
     ]
    }
   ],
   "source": [
    "# Display results\n",
    "print(\"Benin dataset outliers flagged:\\n\", benin_data['Outlier_Flag'].value_counts())\n"
   ]
  }
 ],
 "metadata": {
  "kernelspec": {
   "display_name": ".venv",
   "language": "python",
   "name": "python3"
  },
  "language_info": {
   "codemirror_mode": {
    "name": "ipython",
    "version": 3
   },
   "file_extension": ".py",
   "mimetype": "text/x-python",
   "name": "python",
   "nbconvert_exporter": "python",
   "pygments_lexer": "ipython3",
   "version": "3.12.3"
  }
 },
 "nbformat": 4,
 "nbformat_minor": 5
}
