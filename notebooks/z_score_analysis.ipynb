{
 "cells": [
  {
   "metadata": {
    "ExecuteTime": {
     "end_time": "2024-12-08T22:43:01.733242Z",
     "start_time": "2024-12-08T22:43:01.016879Z"
    }
   },
   "cell_type": "code",
   "source": [
    "import pandas as pd\n",
    "# Import the Z-score analysis functions\n",
    "from scripts.z_score_analysis import calculate_z_scores, flag_outliers"
   ],
   "id": "4c8721bf5bfc77a2",
   "outputs": [],
   "execution_count": 1
  },
  {
   "metadata": {
    "ExecuteTime": {
     "end_time": "2024-12-08T22:43:10.030048Z",
     "start_time": "2024-12-08T22:43:04.819292Z"
    }
   },
   "cell_type": "code",
   "source": [
    "# Load datasets\n",
    "togo_data = pd.read_csv(\"../src/data/togo-dapaong_qc.csv\")\n",
    "sierraleone_data = pd.read_csv(\"../src/data/sierraleone-bumbuna.csv\")\n",
    "benin_data = pd.read_csv(\"../src/data/benin-malanville.csv\")"
   ],
   "id": "7f50aa980a0475b",
   "outputs": [],
   "execution_count": 2
  },
  {
   "metadata": {
    "ExecuteTime": {
     "end_time": "2024-12-08T22:43:11.397962Z",
     "start_time": "2024-12-08T22:43:11.389016Z"
    }
   },
   "cell_type": "code",
   "source": [
    "# Specify columns for Z-score calculation\n",
    "columns_to_check = ['GHI', 'DNI', 'DHI', 'ModA', 'ModB', 'WS', 'WSgust']"
   ],
   "id": "e1d028406a4158aa",
   "outputs": [],
   "execution_count": 3
  },
  {
   "metadata": {
    "ExecuteTime": {
     "end_time": "2024-12-08T22:43:14.636968Z",
     "start_time": "2024-12-08T22:43:14.079909Z"
    }
   },
   "cell_type": "code",
   "source": [
    "# Perform Z-score analysis for Togo dataset\n",
    "togo_z_scores, togo_outliers = calculate_z_scores(togo_data, columns_to_check)\n",
    "togo_data = flag_outliers(togo_data, togo_z_scores, columns_to_check)"
   ],
   "id": "bcf8cdefe86a344b",
   "outputs": [],
   "execution_count": 4
  },
  {
   "metadata": {
    "ExecuteTime": {
     "end_time": "2024-12-08T22:44:01.044868Z",
     "start_time": "2024-12-08T22:44:00.612001Z"
    }
   },
   "cell_type": "code",
   "source": [
    "# Perform Z-score analysis for Sierra Leone dataset\n",
    "sierraleone_z_scores, sierraleone_outliers = calculate_z_scores(sierraleone_data, columns_to_check)\n",
    "sierraleone_data = flag_outliers(sierraleone_data, sierraleone_z_scores, columns_to_check)"
   ],
   "id": "6e5aea1aec2d9475",
   "outputs": [],
   "execution_count": 5
  },
  {
   "metadata": {
    "ExecuteTime": {
     "end_time": "2024-12-08T22:44:02.609986Z",
     "start_time": "2024-12-08T22:44:02.188716Z"
    }
   },
   "cell_type": "code",
   "source": [
    "# Perform Z-score analysis for Benin dataset\n",
    "benin_z_scores, benin_outliers = calculate_z_scores(benin_data, columns_to_check)\n",
    "benin_data = flag_outliers(benin_data, benin_z_scores, columns_to_check)"
   ],
   "id": "52b16a62e346cedd",
   "outputs": [],
   "execution_count": 6
  },
  {
   "metadata": {
    "ExecuteTime": {
     "end_time": "2024-12-08T22:44:02.957091Z",
     "start_time": "2024-12-08T22:44:02.886433Z"
    }
   },
   "cell_type": "code",
   "source": [
    "# Display results\n",
    "print(\"Togo dataset outliers flagged:\\n\", togo_data['Outlier_Flag'].value_counts())"
   ],
   "id": "1bc6712ab5fa6d0e",
   "outputs": [
    {
     "name": "stdout",
     "output_type": "stream",
     "text": [
      "Togo dataset outliers flagged:\n",
      " Outlier_Flag\n",
      "False    516349\n",
      "True       9251\n",
      "Name: count, dtype: int64\n"
     ]
    }
   ],
   "execution_count": 7
  },
  {
   "metadata": {
    "ExecuteTime": {
     "end_time": "2024-12-08T22:44:05.849937Z",
     "start_time": "2024-12-08T22:44:05.827448Z"
    }
   },
   "cell_type": "code",
   "source": [
    "# Display results\n",
    "print(\"Sierra Leone dataset outliers flagged:\\n\", sierraleone_data['Outlier_Flag'].value_counts())"
   ],
   "id": "c8b04d414d3efc31",
   "outputs": [
    {
     "name": "stdout",
     "output_type": "stream",
     "text": [
      "Sierra Leone dataset outliers flagged:\n",
      " Outlier_Flag\n",
      "False    509308\n",
      "True      16292\n",
      "Name: count, dtype: int64\n"
     ]
    }
   ],
   "execution_count": 8
  },
  {
   "metadata": {
    "ExecuteTime": {
     "end_time": "2024-12-08T22:44:08.351242Z",
     "start_time": "2024-12-08T22:44:08.313128Z"
    }
   },
   "cell_type": "code",
   "source": [
    "# Display results\n",
    "print(\"Benin dataset outliers flagged:\\n\", benin_data['Outlier_Flag'].value_counts())\n"
   ],
   "id": "96a46374cea01fc0",
   "outputs": [
    {
     "name": "stdout",
     "output_type": "stream",
     "text": [
      "Benin dataset outliers flagged:\n",
      " Outlier_Flag\n",
      "False    517860\n",
      "True       7740\n",
      "Name: count, dtype: int64\n"
     ]
    }
   ],
   "execution_count": 9
  },
  {
   "metadata": {},
   "cell_type": "code",
   "outputs": [],
   "execution_count": null,
   "source": "",
   "id": "5044dc9c5647e9cc"
  }
 ],
 "metadata": {
  "kernelspec": {
   "display_name": "Python 3",
   "language": "python",
   "name": "python3"
  },
  "language_info": {
   "codemirror_mode": {
    "name": "ipython",
    "version": 2
   },
   "file_extension": ".py",
   "mimetype": "text/x-python",
   "name": "python",
   "nbconvert_exporter": "python",
   "pygments_lexer": "ipython2",
   "version": "2.7.6"
  }
 },
 "nbformat": 4,
 "nbformat_minor": 5
}
