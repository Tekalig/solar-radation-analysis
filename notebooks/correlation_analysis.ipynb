{
 "cells": [
  {
   "metadata": {
    "ExecuteTime": {
     "end_time": "2024-12-08T16:15:42.457753Z",
     "start_time": "2024-12-08T16:15:11.259197Z"
    }
   },
   "cell_type": "code",
   "source": [
    "import pandas as pd\n",
    "# Import the function\n",
    "from scripts.correlation_analysis import correlation_analysis"
   ],
   "id": "3bc9c0014cb60dc5",
   "outputs": [],
   "execution_count": 1
  },
  {
   "metadata": {
    "jupyter": {
     "is_executing": true
    },
    "ExecuteTime": {
     "start_time": "2024-12-08T16:15:59.817824Z"
    }
   },
   "cell_type": "code",
   "source": [
    "# Load the datasets\n",
    "togo_df = pd.read_csv(\"../src/data/cleaned_togo.csv\")\n",
    "sierralone_df = pd.read_csv(\"../src/data/cleaned_sierraleone.csv\")\n",
    "benin_df = pd.read_csv(\"../src/data/cleaned_benin.csv\")"
   ],
   "id": "7787e55433c83bdc",
   "outputs": [],
   "execution_count": null
  },
  {
   "metadata": {},
   "cell_type": "code",
   "outputs": [],
   "execution_count": null,
   "source": [
    "# Perform correlation analysis for Togo dataset\n",
    "print(\"Togo Dataset Correlation Analysis:\")\n",
    "togo_corr_matrix = correlation_analysis(togo_df, \"Togo\")"
   ],
   "id": "ff3f11874447186a"
  },
  {
   "metadata": {},
   "cell_type": "code",
   "outputs": [],
   "execution_count": null,
   "source": [
    "# Perform correlation analysis for Sierra Leone dataset\n",
    "print(\"Sierra Leone Dataset Correlation Analysis:\")\n",
    "sierraleone_corr_matrix = correlation_analysis(sierralone_df, \"Sierra Leone\")"
   ],
   "id": "6ee2fdc0879d9835"
  },
  {
   "metadata": {},
   "cell_type": "code",
   "outputs": [],
   "execution_count": null,
   "source": [
    "# Perform correlation analysis for Benin dataset\n",
    "print(\"Benin Dataset Correlation Analysis:\")\n",
    "benin_corr_matrix = correlation_analysis(benin_df, \"Benin\")\n"
   ],
   "id": "85be7168d53fdbea"
  }
 ],
 "metadata": {
  "kernelspec": {
   "display_name": "Python 3",
   "language": "python",
   "name": "python3"
  },
  "language_info": {
   "codemirror_mode": {
    "name": "ipython",
    "version": 2
   },
   "file_extension": ".py",
   "mimetype": "text/x-python",
   "name": "python",
   "nbconvert_exporter": "python",
   "pygments_lexer": "ipython2",
   "version": "2.7.6"
  }
 },
 "nbformat": 4,
 "nbformat_minor": 5
}
