{
 "cells": [
  {
   "cell_type": "code",
   "execution_count": 1,
   "id": "731d7e17f269f028",
   "metadata": {
    "ExecuteTime": {
     "end_time": "2024-12-08T15:06:42.102643Z",
     "start_time": "2024-12-08T15:06:17.666484Z"
    }
   },
   "outputs": [],
   "source": [
    "import os\n",
    "import sys\n",
    "import matplotlib.pyplot as plt\n",
    "\n",
    "sys.path.append(os.path.abspath(os.path.join(os.getcwd(), \"../\")))\n",
    "# Import the function from the script that displays the time series analysis\n",
    "from src.time_series_analysis import time_series_analysis\n",
    "from src.data_processing import data_loader\n"
   ]
  },
  {
   "cell_type": "code",
   "execution_count": 6,
   "id": "540d98e5afa34759",
   "metadata": {
    "ExecuteTime": {
     "end_time": "2024-12-08T15:07:30.465800Z",
     "start_time": "2024-12-08T15:07:17.917171Z"
    }
   },
   "outputs": [],
   "source": [
    "# Load datasets\n",
    "togo_df = data_loader('../data/processed/cleaned_togo.csv', parse_dates=['Timestamp'])\n",
    "benin_df = data_loader('../data/processed/cleaned_benin.csv', parse_dates=['Timestamp'])\n",
    "sierraleone_df = data_loader('../data/processed/cleaned_sierraleone.csv', parse_dates=['Timestamp'])"
   ]
  },
  {
   "cell_type": "code",
   "execution_count": 3,
   "id": "fd2fc2aa184d7f3",
   "metadata": {
    "ExecuteTime": {
     "end_time": "2024-12-08T15:07:59.013869Z",
     "start_time": "2024-12-08T15:07:44.152516Z"
    }
   },
   "outputs": [
    {
     "name": "stderr",
     "output_type": "stream",
     "text": [
      "/tmp/ipykernel_41925/3056116758.py:5: UserWarning: Creating legend with loc=\"best\" can be slow with large amounts of data.\n",
      "  fig.savefig(f'../screenshots/togo_time_series_analysis_{i}.png')\n"
     ]
    }
   ],
   "source": [
    "# Call the function for each dataset\n",
    "figures = time_series_analysis(togo_df, \"Togo\")\n",
    "# Save the figures in the screenshots folder\n",
    "for i, fig in enumerate(figures):\n",
    "    fig.savefig(f'../screenshots/togo_time_series_analysis_{i}.png')\n",
    "    plt.close(fig)"
   ]
  },
  {
   "cell_type": "code",
   "execution_count": 7,
   "id": "eeadec32c5aeb504",
   "metadata": {
    "ExecuteTime": {
     "end_time": "2024-12-08T15:10:49.324194Z",
     "start_time": "2024-12-08T15:10:32.611798Z"
    }
   },
   "outputs": [
    {
     "name": "stderr",
     "output_type": "stream",
     "text": [
      "/tmp/ipykernel_41925/2671168163.py:5: UserWarning: Creating legend with loc=\"best\" can be slow with large amounts of data.\n",
      "  fig.savefig(f\"../screenshots/benin_time_series_analysis_{i}.png\")\n"
     ]
    }
   ],
   "source": [
    "# Call the function for each dataset\n",
    "figures = time_series_analysis(benin_df, \"Benin\")\n",
    "# Save the figures in the screenshots folder\n",
    "for i, fig in enumerate(figures):\n",
    "    fig.savefig(f\"../screenshots/benin_time_series_analysis_{i}.png\")\n",
    "    plt.close(fig)"
   ]
  },
  {
   "cell_type": "code",
   "execution_count": 8,
   "id": "d9d8eed305978ac9",
   "metadata": {
    "ExecuteTime": {
     "end_time": "2024-12-08T15:11:30.479834Z",
     "start_time": "2024-12-08T15:11:07.929476Z"
    }
   },
   "outputs": [
    {
     "name": "stderr",
     "output_type": "stream",
     "text": [
      "/tmp/ipykernel_41925/1680782035.py:5: UserWarning: Creating legend with loc=\"best\" can be slow with large amounts of data.\n",
      "  fig.savefig(f\"../screenshots/sierraleone_time_series_analysis_{i}.png\")\n"
     ]
    }
   ],
   "source": [
    "# Call the function for each dataset\n",
    "figures = time_series_analysis(sierraleone_df, \"Sierra Leone\")\n",
    "# Save the figures in the screenshots folder\n",
    "for i, fig in enumerate(figures):\n",
    "    fig.savefig(f\"../screenshots/sierraleone_time_series_analysis_{i}.png\")\n",
    "    plt.close(fig)"
   ]
  }
 ],
 "metadata": {
  "kernelspec": {
   "display_name": ".venv",
   "language": "python",
   "name": "python3"
  },
  "language_info": {
   "codemirror_mode": {
    "name": "ipython",
    "version": 3
   },
   "file_extension": ".py",
   "mimetype": "text/x-python",
   "name": "python",
   "nbconvert_exporter": "python",
   "pygments_lexer": "ipython3",
   "version": "3.12.3"
  }
 },
 "nbformat": 4,
 "nbformat_minor": 5
}
